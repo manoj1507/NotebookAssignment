{
 "cells": [
  {
   "cell_type": "markdown",
   "id": "5ab6be1f-b1b8-4981-b868-62d73013d366",
   "metadata": {},
   "source": [
    "<h1>Data Science Tools and Ecosystem<h1>"
   ]
  },
  {
   "cell_type": "markdown",
   "id": "2cad0b2c-a93d-41f9-8afb-1b226e90c202",
   "metadata": {
    "tags": []
   },
   "source": [
    "<h2>In this notebook, Data Science Tools and Ecosystem are summarized.<h2>"
   ]
  },
  {
   "cell_type": "markdown",
   "id": "7e9b93e7-0af7-4a6b-96d7-439e33796a03",
   "metadata": {},
   "source": [
    "<h1> Objectives: <h1>\n",
    "<ul>\n",
    "<li>List popular languages for Data Science</li>\n",
    "<li>Commonly used libraries in Data Science</li>\n",
    "<li>Data Science Tools</li>\n",
    "<li>Arithmetic expressions in Notebook</li>\n",
    "<li>Minutes to Hours converter</li>\n",
    "</ul>"
   ]
  },
  {
   "cell_type": "markdown",
   "id": "3a894aac-1b7b-49c1-ba3b-91e6d33ca196",
   "metadata": {
    "tags": []
   },
   "source": [
    "<h3>Some of the popular languages that Data Scientists use are:<h3>\n",
    "<ol>\n",
    "<li>Python</li>\n",
    "<li>R</li>\n",
    "<li>Julia</li>\n",
    "<li>SQL</li>\n",
    "</ol>"
   ]
  },
  {
   "cell_type": "markdown",
   "id": "af105e78-adf8-402b-9690-024f45535b06",
   "metadata": {},
   "source": [
    "<h3>Some of the commonly used libraries used by Data Scientists include:<h3>\n",
    "<ol>\n",
    "<li>Pandas</li>\n",
    "<li>Matplotlib</li>\n",
    "<li>Numpy</li>\n",
    "<li>Seaborn</li>\n",
    "<li>sklearn</li>\n",
    "<li>BeautifulSoup</li>\n",
    "</ol>"
   ]
  },
  {
   "cell_type": "markdown",
   "id": "25992efd-c456-409c-b5d4-05ec16c86891",
   "metadata": {},
   "source": [
    "|Data Science Tools|\n",
    "|------------------|\n",
    "|MySQL|\n",
    "|Apache Kafka|\n",
    "|Watson Studio|"
   ]
  },
  {
   "cell_type": "markdown",
   "id": "1f6259c3-ff14-4718-b9af-87ea2b1a0580",
   "metadata": {},
   "source": [
    "<h3>Below are a few examples of evaluating arithmetic expressions in Python<h3>"
   ]
  },
  {
   "cell_type": "code",
   "execution_count": 3,
   "id": "0be0105a-e84b-4d13-ad75-f399442879e7",
   "metadata": {
    "tags": []
   },
   "outputs": [
    {
     "data": {
      "text/plain": [
       "17"
      ]
     },
     "execution_count": 3,
     "metadata": {},
     "output_type": "execute_result"
    }
   ],
   "source": [
    "#This a simple arithmetic expression to mutiply then add integers\n",
    "\n",
    "(3*4)+5"
   ]
  },
  {
   "cell_type": "code",
   "execution_count": 5,
   "id": "5cb833a1-c0dd-49bf-8c1a-a11975029c77",
   "metadata": {
    "tags": []
   },
   "outputs": [
    {
     "name": "stdout",
     "output_type": "stream",
     "text": [
      "3.3333333333333335\n"
     ]
    }
   ],
   "source": [
    "def minutes_to_hours(minutes):\n",
    "    hours = minutes / 60\n",
    "    return hours\n",
    "minutes = 200\n",
    "hours = minutes_to_hours(minutes)\n",
    "print(hours)\n",
    "#This will convert 200 minutes to hours by diving by 60"
   ]
  },
  {
   "cell_type": "markdown",
   "id": "ecbe3d85-fe20-446a-8d80-9b6040032cb5",
   "metadata": {},
   "source": [
    "<h2> Author: <h2>\n",
    "<h6> Manoj Kumar S <h6>"
   ]
  },
  {
   "cell_type": "code",
   "execution_count": null,
   "id": "c7300372-20f8-4454-8223-3d094cc0c2fa",
   "metadata": {},
   "outputs": [],
   "source": []
  }
 ],
 "metadata": {
  "kernelspec": {
   "display_name": "Python",
   "language": "python",
   "name": "conda-env-python-py"
  },
  "language_info": {
   "codemirror_mode": {
    "name": "ipython",
    "version": 3
   },
   "file_extension": ".py",
   "mimetype": "text/x-python",
   "name": "python",
   "nbconvert_exporter": "python",
   "pygments_lexer": "ipython3",
   "version": "3.7.12"
  }
 },
 "nbformat": 4,
 "nbformat_minor": 5
}
